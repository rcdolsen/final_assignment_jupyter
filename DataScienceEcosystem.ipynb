{
 "cells": [
  {
   "cell_type": "markdown",
   "id": "a7da0f07-7cda-4039-aaf2-ff92aacb6136",
   "metadata": {},
   "source": [
    "# Data Science Tools and Ecosystem"
   ]
  },
  {
   "cell_type": "markdown",
   "id": "7ffc521e-c14b-443d-aa66-a909966ca904",
   "metadata": {},
   "source": [
    "In this notebook, Data Science Tools and Ecosystems are summarized."
   ]
  },
  {
   "cell_type": "markdown",
   "id": "40d62afe-27a0-4d4e-a958-94a0bc975ee3",
   "metadata": {},
   "source": [
    "Some of the popular languages that Data Scientists use are:\n",
    "\n",
    "1. python\n",
    "2. R\n",
    "3. SQL"
   ]
  },
  {
   "cell_type": "markdown",
   "id": "dece25b3-f6bb-4507-9c3a-a01ebfc5b187",
   "metadata": {},
   "source": [
    "Some of the commonly used libraries used by Data Scientists include:\n",
    "\n",
    "1. Pandas\n",
    "1. NumPy\n",
    "1. Tensorflow"
   ]
  },
  {
   "cell_type": "markdown",
   "id": "a1f161bd-c731-4194-ab5f-ca13b2588137",
   "metadata": {},
   "source": [
    "Data Science Tools|\n",
    "---|\n",
    "Anaconda|\n",
    "VScode|\n",
    "RStudio|"
   ]
  },
  {
   "cell_type": "markdown",
   "id": "1ee0ca3c-c187-432d-a5ae-f432129dde8c",
   "metadata": {},
   "source": [
    "### Below are a few examples of evaluating arithmetic expressions in Python"
   ]
  },
  {
   "cell_type": "markdown",
   "id": "9d78d772-a507-418e-95a2-659b2d49fbd8",
   "metadata": {},
   "source": [
    "*This is a simple arithmetic expression to multiply, then add integers*"
   ]
  },
  {
   "cell_type": "code",
   "execution_count": 8,
   "id": "671711f1-e8a4-4b98-bf71-03cb03940a5c",
   "metadata": {},
   "outputs": [
    {
     "data": {
      "text/plain": [
       "17"
      ]
     },
     "execution_count": 8,
     "metadata": {},
     "output_type": "execute_result"
    }
   ],
   "source": [
    "(3*4)+5"
   ]
  },
  {
   "cell_type": "markdown",
   "id": "8170d350-f7bb-4f47-95eb-039ec23fbdf7",
   "metadata": {},
   "source": [
    "*This will convert 200 minutes to hours by dividing by 60*"
   ]
  },
  {
   "cell_type": "code",
   "execution_count": 11,
   "id": "a2123fa6-dcc3-4cee-801d-9c332aac05df",
   "metadata": {},
   "outputs": [
    {
     "data": {
      "text/plain": [
       "3.3333333333333335"
      ]
     },
     "execution_count": 11,
     "metadata": {},
     "output_type": "execute_result"
    }
   ],
   "source": [
    "200/60"
   ]
  },
  {
   "cell_type": "markdown",
   "id": "d52b1558-e16b-4c19-bdd1-5c8ae53a10ae",
   "metadata": {},
   "source": [
    "**Objectives:**\n",
    "\n",
    "* Create a Jupyter Notebook\n",
    "* List Data Science languages\n",
    "* Multiply and add numbers\n",
    "* Convert minutes to hours"
   ]
  },
  {
   "cell_type": "markdown",
   "id": "3398d7be-6242-4ba4-9c5e-571dc8efb734",
   "metadata": {},
   "source": [
    "## Author\n",
    "Ricardo Siqueira"
   ]
  },
  {
   "cell_type": "code",
   "execution_count": null,
   "id": "60ba7eb6-d8f0-489d-b6bc-5d44e58710c8",
   "metadata": {},
   "outputs": [],
   "source": []
  }
 ],
 "metadata": {
  "kernelspec": {
   "display_name": "Python 3 (ipykernel)",
   "language": "python",
   "name": "python3"
  },
  "language_info": {
   "codemirror_mode": {
    "name": "ipython",
    "version": 3
   },
   "file_extension": ".py",
   "mimetype": "text/x-python",
   "name": "python",
   "nbconvert_exporter": "python",
   "pygments_lexer": "ipython3",
   "version": "3.11.9"
  }
 },
 "nbformat": 4,
 "nbformat_minor": 5
}
